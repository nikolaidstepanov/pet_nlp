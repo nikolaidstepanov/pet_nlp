{
 "cells": [
  {
   "cell_type": "code",
   "execution_count": 19,
   "metadata": {},
   "outputs": [],
   "source": [
    "import torch\n",
    "import torch.nn as nn\n",
    "import torch.optim as optim\n",
    "import torch.nn.functional as F\n",
    "from torch.utils.data import Dataset, DataLoader\n",
    "import matplotlib.pyplot as plt"
   ]
  },
  {
   "cell_type": "code",
   "execution_count": 2,
   "metadata": {},
   "outputs": [],
   "source": [
    "mps_device = torch.device(\"mps\")"
   ]
  },
  {
   "cell_type": "code",
   "execution_count": 3,
   "metadata": {},
   "outputs": [],
   "source": [
    "data = [\n",
    "    (\"this is a positive example\", 1),\n",
    "    (\"this is a negative example\", 0),\n",
    "    (\"I absolutely love this product\", 1),\n",
    "    (\"I really dislike this product\", 0),\n",
    "    (\"the movie was fantastic and inspiring\", 1),\n",
    "    (\"the movie was dull and disappointing\", 0),\n",
    "    (\"what an amazing experience\", 1),\n",
    "    (\"what a terrible experience\", 0),\n",
    "    (\"the food was delicious and well-prepared\", 1),\n",
    "    (\"the food was awful and undercooked\", 0),\n",
    "    (\"I enjoyed the service and the atmosphere\", 1),\n",
    "    (\"I was frustrated by the poor service\", 0),\n",
    "    (\"the performance was outstanding\", 1),\n",
    "    (\"the performance was mediocre\", 0)\n",
    "]"
   ]
  },
  {
   "cell_type": "code",
   "execution_count": 21,
   "metadata": {},
   "outputs": [],
   "source": [
    "def tokenize(text):\n",
    "    return text.lower().split()\n",
    "\n",
    "def build_vocab(data):\n",
    "    vocab = {\"<PAD>\": 0, \"<UNK>\": 1}\n",
    "    idx = 2\n",
    "    for text, _ in data:\n",
    "        for token in tokenize(text):\n",
    "            if token not in vocab:\n",
    "                vocab[token] = idx\n",
    "                idx += 1\n",
    "    return vocab\n",
    "\n",
    "def text_to_sequence(text, vocab):\n",
    "    tokens = tokenize(text)\n",
    "    return [vocab.get(token, vocab[\"<UNK>\"]) for token in tokens]\n",
    "\n",
    "def cosine_similarity(embedding1, embedding2):\n",
    "    return F.cosine_similarity(embedding1.unsqueeze(0), embedding2.unsqueeze(0)).item()"
   ]
  },
  {
   "cell_type": "code",
   "execution_count": 5,
   "metadata": {},
   "outputs": [
    {
     "name": "stdout",
     "output_type": "stream",
     "text": [
      "Vocabulary size: 41\n"
     ]
    }
   ],
   "source": [
    "vocab = build_vocab(data)\n",
    "vocab_size = len(vocab)\n",
    "print(\"Vocabulary size:\", vocab_size)"
   ]
  },
  {
   "cell_type": "code",
   "execution_count": 6,
   "metadata": {},
   "outputs": [],
   "source": [
    "class TextDataset(Dataset):\n",
    "    def __init__(self, data, vocab, max_length=10):\n",
    "        self.data = data\n",
    "        self.vocab = vocab\n",
    "        self.max_length = max_length\n",
    "        \n",
    "    def __len__(self):\n",
    "        return len(self.data)\n",
    "    \n",
    "    def __getitem__(self, idx):\n",
    "        text, label = self.data[idx]\n",
    "        seq = text_to_sequence(text, self.vocab)\n",
    "        if len(seq) < self.max_length:\n",
    "            seq = seq + [self.vocab[\"<PAD>\"]] * (self.max_length - len(seq))\n",
    "        else:\n",
    "            seq = seq[:self.max_length]\n",
    "        return torch.tensor(seq, dtype=torch.long), torch.tensor(label, dtype=torch.float)\n",
    "\n",
    "\n",
    "dataset = TextDataset(data, vocab, max_length=10)\n",
    "dataloader = DataLoader(dataset, batch_size=2, shuffle=True)"
   ]
  },
  {
   "cell_type": "code",
   "execution_count": 7,
   "metadata": {},
   "outputs": [],
   "source": [
    "class SupervisedEmbeddingModel(nn.Module):\n",
    "    def __init__(self, vocab_size, embedding_dim=32, hidden_dim=16):\n",
    "        super(SupervisedEmbeddingModel, self).__init__()\n",
    "        self.embedding = nn.Embedding(num_embeddings=vocab_size, \n",
    "                                      embedding_dim=embedding_dim, \n",
    "                                      padding_idx=0)\n",
    "        self.fc = nn.Linear(embedding_dim, hidden_dim)\n",
    "        self.out = nn.Linear(hidden_dim, 1)\n",
    "        self.relu = nn.ReLU()\n",
    "        \n",
    "    def forward(self, x):\n",
    "        # x: (batch_size, seq_length)\n",
    "        embedded = self.embedding(x)  # (batch_size, seq_length, embedding_dim)\n",
    "        # Create a mask for non-padding tokens (PAD index is 0)\n",
    "        mask = (x != 0).unsqueeze(-1).float()\n",
    "        summed = torch.sum(embedded * mask, dim=1)\n",
    "        lengths = torch.sum(mask, dim=1)  # Number of valid tokens\n",
    "        avg_embedded = summed / lengths.clamp(min=1)\n",
    "        \n",
    "        hidden = self.relu(self.fc(avg_embedded))\n",
    "        output = self.out(hidden)\n",
    "        return output.squeeze(1)  # (batch_size,)\n",
    "    \n",
    "embedding_dim = 32\n",
    "hidden_dim = 16\n",
    "model = SupervisedEmbeddingModel(vocab_size, embedding_dim, hidden_dim)"
   ]
  },
  {
   "cell_type": "code",
   "execution_count": 8,
   "metadata": {},
   "outputs": [],
   "source": [
    "criterion = nn.BCEWithLogitsLoss()\n",
    "optimizer = optim.Adam(model.parameters(), lr=0.001)"
   ]
  },
  {
   "cell_type": "code",
   "execution_count": 15,
   "metadata": {},
   "outputs": [
    {
     "name": "stdout",
     "output_type": "stream",
     "text": [
      "Эпоха 1/30, Потеря: 0.5808\n",
      "Эпоха 2/30, Потеря: 0.5734\n",
      "Эпоха 3/30, Потеря: 0.5667\n",
      "Эпоха 4/30, Потеря: 0.5581\n",
      "Эпоха 5/30, Потеря: 0.5505\n",
      "Эпоха 6/30, Потеря: 0.5418\n",
      "Эпоха 7/30, Потеря: 0.5327\n",
      "Эпоха 8/30, Потеря: 0.5238\n",
      "Эпоха 9/30, Потеря: 0.5151\n",
      "Эпоха 10/30, Потеря: 0.5051\n",
      "Эпоха 11/30, Потеря: 0.4964\n",
      "Эпоха 12/30, Потеря: 0.4858\n",
      "Эпоха 13/30, Потеря: 0.4738\n",
      "Эпоха 14/30, Потеря: 0.4620\n",
      "Эпоха 15/30, Потеря: 0.4508\n",
      "Эпоха 16/30, Потеря: 0.4399\n",
      "Эпоха 17/30, Потеря: 0.4273\n",
      "Эпоха 18/30, Потеря: 0.4166\n",
      "Эпоха 19/30, Потеря: 0.4028\n",
      "Эпоха 20/30, Потеря: 0.3905\n",
      "Эпоха 21/30, Потеря: 0.3778\n",
      "Эпоха 22/30, Потеря: 0.3653\n",
      "Эпоха 23/30, Потеря: 0.3523\n",
      "Эпоха 24/30, Потеря: 0.3395\n",
      "Эпоха 25/30, Потеря: 0.3274\n",
      "Эпоха 26/30, Потеря: 0.3162\n",
      "Эпоха 27/30, Потеря: 0.3033\n",
      "Эпоха 28/30, Потеря: 0.2916\n",
      "Эпоха 29/30, Потеря: 0.2802\n",
      "Эпоха 30/30, Потеря: 0.2690\n"
     ]
    }
   ],
   "source": [
    "num_epochs = 30\n",
    "epoch_losses = []  # список для хранения средней потери по эпохам\n",
    "\n",
    "\n",
    "for epoch in range(num_epochs):\n",
    "    model.train()\n",
    "    total_loss = 0.0\n",
    "    for inputs, labels in dataloader:\n",
    "        optimizer.zero_grad()\n",
    "        outputs = model(inputs)\n",
    "        loss = criterion(outputs, labels)\n",
    "        loss.backward()\n",
    "        optimizer.step()\n",
    "        total_loss += loss.item()\n",
    "    \n",
    "    avg_loss = total_loss / len(dataloader)\n",
    "    epoch_losses.append(avg_loss)\n",
    "    print(f\"Эпоха {epoch+1}/{num_epochs}, Потеря: {avg_loss:.4f}\")"
   ]
  },
  {
   "cell_type": "code",
   "execution_count": 16,
   "metadata": {},
   "outputs": [
    {
     "data": {
      "image/png": "[encoded data removed]",
      "text/plain": [
       "<Figure size 800x500 with 1 Axes>"
      ]
     },
     "metadata": {},
     "output_type": "display_data"
    }
   ],
   "source": [
    "# Построение графика\n",
    "plt.figure(figsize=(8, 5))\n",
    "plt.plot(range(1, num_epochs + 1), epoch_losses, marker='o', linestyle='-')\n",
    "plt.title(\"Изменение функции потерь во время обучения\")\n",
    "plt.xlabel(\"Эпоха\")\n",
    "plt.ylabel(\"Средняя потеря\")\n",
    "plt.grid(True)\n",
    "plt.show()"
   ]
  },
  {
   "cell_type": "code",
   "execution_count": 25,
   "metadata": {},
   "outputs": [
    {
     "name": "stdout",
     "output_type": "stream",
     "text": [
      "Размерность матрицы эмбеддингов: torch.Size([41, 32])\n"
     ]
    }
   ],
   "source": [
    "embeddings = model.embedding.weight.detach()\n",
    "print(\"Размерность матрицы эмбеддингов:\", embeddings.shape)\n"
   ]
  },
  {
   "cell_type": "code",
   "execution_count": 18,
   "metadata": {},
   "outputs": [
    {
     "name": "stdout",
     "output_type": "stream",
     "text": [
      "Эмбеддинг для слова 'positive':\n",
      " tensor([ 1.5621,  1.5980,  1.3158,  1.3783, -0.6791,  1.4241, -0.3903, -0.0183,\n",
      "        -0.2911, -1.1232,  0.4488,  0.2894,  1.3158, -0.7938,  1.5406, -0.0833,\n",
      "        -0.4578, -0.6905,  0.2576,  2.8942, -0.2629, -0.4030,  1.6220, -1.1876,\n",
      "         0.0088, -2.1884, -0.6091,  0.2266,  0.6359,  1.1358, -1.6528, -0.0795])\n"
     ]
    }
   ],
   "source": [
    "word = \"positive\"\n",
    "if word in vocab:\n",
    "    word_index = vocab[word]\n",
    "    word_embedding = embeddings[word_index]\n",
    "    print(f\"Эмбеддинг для слова '{word}':\\n\", word_embedding)\n",
    "else:\n",
    "    print(f\"Слово '{word}' отсутствует в словаре.\")"
   ]
  },
  {
   "cell_type": "code",
   "execution_count": 22,
   "metadata": {},
   "outputs": [
    {
     "name": "stdout",
     "output_type": "stream",
     "text": [
      "Косинусное сходство между 'positive' и 'negative': -0.0763\n"
     ]
    }
   ],
   "source": [
    "word1 = \"positive\"\n",
    "word2 = \"negative\"\n",
    "\n",
    "if word1 in vocab and word2 in vocab:\n",
    "    index1 = vocab[word1]\n",
    "    index2 = vocab[word2]\n",
    "    embedding1 = embeddings[index1]\n",
    "    embedding2 = embeddings[index2]\n",
    "    \n",
    "    similarity = cosine_similarity(embedding1, embedding2)\n",
    "    print(f\"Косинусное сходство между '{word1}' и '{word2}': {similarity:.4f}\")\n",
    "else:\n",
    "    print(f\"Одно из слов ('{word1}', '{word2}') отсутствует в словаре.\")"
   ]
  },
  {
   "cell_type": "code",
   "execution_count": 27,
   "metadata": {},
   "outputs": [
    {
     "name": "stdout",
     "output_type": "stream",
     "text": [
      "Косинусное сходство между 'negative' и 'awful': 0.1280\n"
     ]
    }
   ],
   "source": [
    "word1 = \"negative\"\n",
    "word2 = \"awful\"\n",
    "\n",
    "if word1 in vocab and word2 in vocab:\n",
    "    index1 = vocab[word1]\n",
    "    index2 = vocab[word2]\n",
    "    embedding1 = embeddings[index1]\n",
    "    embedding2 = embeddings[index2]\n",
    "    \n",
    "    similarity = cosine_similarity(embedding1, embedding2)\n",
    "    print(f\"Косинусное сходство между '{word1}' и '{word2}': {similarity:.4f}\")\n",
    "else:\n",
    "    print(f\"Одно из слов ('{word1}', '{word2}') отсутствует в словаре.\")"
   ]
  },
  {
   "cell_type": "code",
   "execution_count": null,
   "metadata": {},
   "outputs": [],
   "source": []
  }
 ],
 "metadata": {
  "kernelspec": {
   "display_name": "embeddings-YipDLZai-py3.11",
   "language": "python",
   "name": "python3"
  },
  "language_info": {
   "codemirror_mode": {
    "name": "ipython",
    "version": 3
   },
   "file_extension": ".py",
   "mimetype": "text/x-python",
   "name": "python",
   "nbconvert_exporter": "python",
   "pygments_lexer": "ipython3",
   "version": "3.11.8"
  }
 },
 "nbformat": 4,
 "nbformat_minor": 2
}
